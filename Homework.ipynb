{
  "nbformat": 4,
  "nbformat_minor": 0,
  "metadata": {
    "colab": {
      "name": "Homework.ipynb",
      "provenance": [],
      "authorship_tag": "ABX9TyPGIUXrII6iuvqwzwOEdfCt",
      "include_colab_link": true
    },
    "kernelspec": {
      "name": "python3",
      "display_name": "Python 3"
    }
  },
  "cells": [
    {
      "cell_type": "markdown",
      "metadata": {
        "id": "view-in-github",
        "colab_type": "text"
      },
      "source": [
        "<a href=\"https://colab.research.google.com/github/Ossino/pythonHSE/blob/main/Homework.ipynb\" target=\"_parent\"><img src=\"https://colab.research.google.com/assets/colab-badge.svg\" alt=\"Open In Colab\"/></a>"
      ]
    },
    {
      "cell_type": "markdown",
      "metadata": {
        "id": "fc1pFOvXNNz8"
      },
      "source": [
        "**Домашнее задание по словарям и пр.**\n",
        "\n",
        "\n",
        "с помощью словаря создайте простой транслитератор: нужно, чтобы программа принимала с клавиатуры (у нас есть специальный оператор ввода с клавиатуры) слова, записанные кириллицей, и печатала результат латиницей.\n",
        "Пример: собака >> sobaka"
      ]
    },
    {
      "cell_type": "code",
      "metadata": {
        "colab": {
          "base_uri": "https://localhost:8080/"
        },
        "id": "8Dvt85IYNM56",
        "outputId": "bd214df7-c447-46ae-ff34-89b562ba89eb"
      },
      "source": [
        "alpha = {'а': \"a\",'б': \"b\",'в': \"v\",'г': \"g\",'д': \"d\",'е': \"e\",'ё': \"io\",'ж': \"zh\",'з': \"z\",'и': \"i\",'й': \"j\",'к': \"k\",'л': \"l\",\n",
        "         'м': \"m\",'н': \"n\",'о': \"o\",'п': \"p\", 'р':\"r\",'с': \"s\",'т': \"t\",'у': \"u\",'ф': \"f\",'х': \"h\",'ц': \"ts\",'ч': \"ch\",'ш': \"sh\",\n",
        "         'щ': \"shch\",'ъ': \"\",'ы': \"y\",'ь': \"'\",'э': \"eh\", 'ю': \"yu\",'я': \"ya\"} \n",
        "word = input (\"Ваше слово: \")\n",
        "word1 = word.lower()\n",
        "for key in alpha:\n",
        "    word1 = word1.replace(key, alpha[key])\n",
        "print(word1)\n"
      ],
      "execution_count": 28,
      "outputs": [
        {
          "output_type": "stream",
          "text": [
            "Ваше слово: ДОмашка\n",
            "domashka\n"
          ],
          "name": "stdout"
        }
      ]
    },
    {
      "cell_type": "markdown",
      "metadata": {
        "id": "8PyHthPONgjz"
      },
      "source": [
        "**Домашнее задание по функциям**\n",
        "\n",
        "Задача 1. Напишите генератор названий компаний (почти как генератор паролей). Пусть в названии компании будет 6 частей, рандомно выбирающихся из списка names.\n"
      ]
    },
    {
      "cell_type": "code",
      "metadata": {
        "colab": {
          "base_uri": "https://localhost:8080/"
        },
        "id": "SLrqY38-NxkE",
        "outputId": "5bb14b6f-5824-40b3-8a30-1391f3bd8a99"
      },
      "source": [
        "# генератор названий компаний\n",
        "\n",
        "import random\n",
        "\n",
        "names = [\"пром\",\"агро\",\"торг\",\"урал\",\"север\",\"юг\",\"техно\",\n",
        "\"экспо\",\"метал\",\"нефть\",\"сельхоз\",\"фарм\",\"строй\",\n",
        "\"кредит\",\"алмаз\",\"-девелопмент\",\"развитие\",\"мос\",\n",
        "\"рос\",\"кубань\",\"сибирь\",\"восток\",\"нано\",\"софт\",\n",
        "\"микро\",\"онлайн\",\"инвест\",\"текстиль\",\"цемент\"]\n",
        "\n",
        "# Ваш код ниже\n",
        "company = ''\n",
        "for y in range(6):\n",
        "    company = company + random.choice(names)\n",
        "\n",
        "print(company)\n",
        "\n",
        "# запустите ячейку несклько раз"
      ],
      "execution_count": 4,
      "outputs": [
        {
          "output_type": "stream",
          "text": [
            "сельхозцементросуралонлайнсевер\n"
          ],
          "name": "stdout"
        }
      ]
    },
    {
      "cell_type": "markdown",
      "metadata": {
        "id": "bYW3ZNevXQJL"
      },
      "source": [
        "Задача 3\n",
        "\n",
        "про генератор паролей\n",
        "\n",
        "Используя генератор паролей описанный в начале тетрадки, создайте свой. Пароли, получаемые в результате, должны удовлетворять следующим условиям: - длина пароля - 15 символов - в пароле есть 3 заглавные буквы (любые, в любом месте пароля) - в пароле есть 4 цифры (любые, в любом месте) - оставшиеся символы пароля - строчные латинские буквы"
      ]
    },
    {
      "cell_type": "code",
      "metadata": {
        "colab": {
          "base_uri": "https://localhost:8080/"
        },
        "id": "JSR2ElbkXQ4Q",
        "outputId": "a3b65a5d-2bee-4097-8b02-c1a5e241cb64"
      },
      "source": [
        "\n",
        "import random\n",
        "passw_lvl2 = '' # предварительно создаем переменную для пароля, с типом \"строка\"\n",
        "\n",
        "for x in range(4): \n",
        "    passw_lvl2 = passw_lvl2 + random.choice('1234567890')\n",
        "for x in range(3):\n",
        "    passw_lvl2 = passw_lvl2 + random.choice('QWERTYUIOPASDFGHJKLZXCVBNM')\n",
        "for x in range(8):     \n",
        "    passw_lvl2 = passw_lvl2 + random.choice('qwertyuiopasdfghjklzxcvbnm')\n",
        "\n",
        "print(passw_lvl2)\n",
        "\n",
        "# не могу сделать это проще, выдает какие-то ошибки; а еще наверняка можно итоговый результат перемешать, но не знаю, как ;("
      ],
      "execution_count": 32,
      "outputs": [
        {
          "output_type": "stream",
          "text": [
            "2450KZXjyvogori\n"
          ],
          "name": "stdout"
        }
      ]
    }
  ]
}